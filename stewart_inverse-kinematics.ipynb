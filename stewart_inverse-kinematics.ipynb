{
 "cells": [
  {
   "cell_type": "code",
   "execution_count": 1,
   "metadata": {},
   "outputs": [],
   "source": [
    "import numpy as np"
   ]
  },
  {
   "cell_type": "code",
   "execution_count": null,
   "metadata": {},
   "outputs": [
    {
     "name": "stdout",
     "output_type": "stream",
     "text": [
      "[[ 0.5        -0.14644661  0.85355339]\n",
      " [ 0.5         0.85355339 -0.14644661]\n",
      " [-0.70710678  0.5         0.5       ]]\n"
     ]
    }
   ],
   "source": [
    "φ = np.pi / 4 \n",
    "θ = np.pi / 4 \n",
    "ψ = np.pi / 4 \n",
    "\n",
    "R_z = np.array([\n",
    "    [np.cos(φ), -np.sin(φ), 0],\n",
    "    [np.sin(φ),  np.cos(φ), 0],\n",
    "    [0, 0, 1] ])\n",
    "R_y = np.array([\n",
    "    [np.cos(θ), 0, np.sin(θ)],\n",
    "    [0, 1, 0],\n",
    "    [-np.sin(θ), 0, np.cos(θ)]])\n",
    "R_x = np.array([\n",
    "    [1, 0, 0],\n",
    "    [0,  np.cos(ψ), -np.sin(ψ)],\n",
    "    [0, np.sin(ψ), np.cos(ψ)]])\n",
    "\n",
    "R_p = R_z @ R_y @ R_x\n",
    "print(R_p)\n"
   ]
  }
 ],
 "metadata": {
  "kernelspec": {
   "display_name": "Python 3",
   "language": "python",
   "name": "python3"
  },
  "language_info": {
   "codemirror_mode": {
    "name": "ipython",
    "version": 3
   },
   "file_extension": ".py",
   "mimetype": "text/x-python",
   "name": "python",
   "nbconvert_exporter": "python",
   "pygments_lexer": "ipython3",
   "version": "3.13.2"
  }
 },
 "nbformat": 4,
 "nbformat_minor": 2
}
